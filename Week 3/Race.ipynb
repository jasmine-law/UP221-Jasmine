{
 "cells": [
  {
   "cell_type": "markdown",
   "id": "2f58eebc-c298-4b65-b927-98faa3b6cdd5",
   "metadata": {},
   "source": [
    "This notebook focuses on making choropleth maps detailing where different races are concentrated in San Francisco. This is part of our assignment to evaluate transit equity for students in the city. \n",
    "\n",
    "This assignment is a continuation of my Week 7 assignment to continue working on the final project and use numerous for loops throughout this notebook. "
   ]
  },
  {
   "cell_type": "code",
   "execution_count": 158,
   "id": "71eafc98-5efb-4269-9f4c-a57f21fe5938",
   "metadata": {},
   "outputs": [],
   "source": [
    "#libraries\n",
    "import pandas as pd\n",
    "import geopandas as gpd\n",
    "import matplotlib.pyplot as plt\n",
    "import contextily as ctx\n",
    "import numpy as np\n",
    "import branca.colormap as cm\n",
    "import plotly.express as px\n",
    "import folium\n",
    "import branca.element #just in case for adding titles"
   ]
  },
  {
   "cell_type": "code",
   "execution_count": 159,
   "id": "c00f26b8-71cd-4f46-87f3-95463baca8ef",
   "metadata": {},
   "outputs": [],
   "source": [
    "#data\n",
    "race = pd.read_csv(\n",
    "    'data/sfpop2.csv',\n",
    "    dtype={'GEO_ID':str}\n",
    ")\n",
    "race = race[[\"GEO_ID\", \"NAME\", \"S0601_C01_001E\", \"S0601_C01_015E\", \"S0601_C01_017E\", \"S0601_C01_021E\", \"S0601_C01_022E\"]]\n",
    "\n",
    "race = race.rename(\n",
    "    columns={\n",
    "        'GEO_ID': 'FIPS', \n",
    "        'NAME' : 'Tract',\n",
    "        'S0601_C01_001E' : 'Total tract pop',\n",
    "        'S0601_C01_015E' : 'Black pop (in %)',\n",
    "        #'S0601_C01_016E' : 'Native American pop (in %)',\n",
    "        'S0601_C01_017E' : 'Asian pop (in %)',\n",
    "        #'S0601_C01_018E' : 'Native Hawaiian/Pacific Islander pop (in %)',\n",
    "        'S0601_C01_021E' : 'Hispanic_Latino pop (in %)',\n",
    "        'S0601_C01_022E' : 'White pop (in %)'\n",
    "    }\n",
    ") \n",
    "race = race.drop(labels=0, axis=0)\n",
    "# Drop percent youth with no data, marked as \"-\"\n",
    "#race = race[race['Total Youth pop'] != '-']\n",
    "# Change it to numeric\n",
    "#ag['Total Youth pop'] = ag['Total Youth pop'].astype(float)\n",
    "#ag['Total tract pop'] = ag['Total tract pop'].astype(float)"
   ]
  },
  {
   "cell_type": "code",
   "execution_count": 160,
   "id": "f4250643-dced-404c-b28d-2d899f37546a",
   "metadata": {},
   "outputs": [],
   "source": [
    "# converting columns into floats\n",
    "pop_columns = [col for col in race.columns if 'pop' in col]\n",
    "\n",
    "for col in pop_columns:\n",
    "    race[col] = race[col].replace(['-', '<NA>', 'nan', 'None'],pd.NA)\n",
    "    race[col] = race[col].fillna(float('nan'))\n",
    "    race[col] = race[col] = pd.to_numeric(race[col], errors='coerce')\n",
    "    #race[col] = race[col].astype(str).astype(float)"
   ]
  },
  {
   "cell_type": "code",
   "execution_count": 161,
   "id": "e13ba1d8-7dce-4848-8a6e-29a720f21233",
   "metadata": {},
   "outputs": [],
   "source": [
    "# changing all the percents into raw numbers\n",
    "percentage_columns = [col for col in race.columns if 'pop (in %)' in col]\n",
    "\n",
    "for col in percentage_columns:\n",
    "    raw_col_name = col.replace('population (in %)', 'pop')\n",
    "    race[raw_col_name] = (race[col] / 100) * race['Total tract pop']"
   ]
  },
  {
   "cell_type": "code",
   "execution_count": 162,
   "id": "1b0bab3d-fc8a-43ab-abf5-b665b11e1b99",
   "metadata": {},
   "outputs": [
    {
     "data": {
      "text/html": [
       "<div>\n",
       "<style scoped>\n",
       "    .dataframe tbody tr th:only-of-type {\n",
       "        vertical-align: middle;\n",
       "    }\n",
       "\n",
       "    .dataframe tbody tr th {\n",
       "        vertical-align: top;\n",
       "    }\n",
       "\n",
       "    .dataframe thead th {\n",
       "        text-align: right;\n",
       "    }\n",
       "</style>\n",
       "<table border=\"1\" class=\"dataframe\">\n",
       "  <thead>\n",
       "    <tr style=\"text-align: right;\">\n",
       "      <th></th>\n",
       "      <th>FIPS</th>\n",
       "      <th>Tract</th>\n",
       "      <th>Total tract pop</th>\n",
       "      <th>Black pop (in %)</th>\n",
       "      <th>Asian pop (in %)</th>\n",
       "      <th>Hispanic_Latino pop (in %)</th>\n",
       "      <th>White pop (in %)</th>\n",
       "    </tr>\n",
       "  </thead>\n",
       "  <tbody>\n",
       "    <tr>\n",
       "      <th>1</th>\n",
       "      <td>06075010101</td>\n",
       "      <td>Census Tract 101.01; San Francisco County; Cal...</td>\n",
       "      <td>2121</td>\n",
       "      <td>150.591</td>\n",
       "      <td>897.183</td>\n",
       "      <td>265.125</td>\n",
       "      <td>704.172</td>\n",
       "    </tr>\n",
       "    <tr>\n",
       "      <th>2</th>\n",
       "      <td>06075010102</td>\n",
       "      <td>Census Tract 101.02; San Francisco County; Cal...</td>\n",
       "      <td>1908</td>\n",
       "      <td>337.716</td>\n",
       "      <td>774.648</td>\n",
       "      <td>286.200</td>\n",
       "      <td>469.368</td>\n",
       "    </tr>\n",
       "    <tr>\n",
       "      <th>3</th>\n",
       "      <td>06075010201</td>\n",
       "      <td>Census Tract 102.01; San Francisco County; Cal...</td>\n",
       "      <td>2473</td>\n",
       "      <td>185.475</td>\n",
       "      <td>175.583</td>\n",
       "      <td>267.084</td>\n",
       "      <td>1758.303</td>\n",
       "    </tr>\n",
       "    <tr>\n",
       "      <th>4</th>\n",
       "      <td>06075010202</td>\n",
       "      <td>Census Tract 102.02; San Francisco County; Cal...</td>\n",
       "      <td>1859</td>\n",
       "      <td>57.629</td>\n",
       "      <td>329.043</td>\n",
       "      <td>63.206</td>\n",
       "      <td>1178.606</td>\n",
       "    </tr>\n",
       "    <tr>\n",
       "      <th>5</th>\n",
       "      <td>06075010300</td>\n",
       "      <td>Census Tract 103; San Francisco County; Califo...</td>\n",
       "      <td>3925</td>\n",
       "      <td>0.000</td>\n",
       "      <td>1051.900</td>\n",
       "      <td>463.150</td>\n",
       "      <td>2323.600</td>\n",
       "    </tr>\n",
       "  </tbody>\n",
       "</table>\n",
       "</div>"
      ],
      "text/plain": [
       "          FIPS                                              Tract  \\\n",
       "1  06075010101  Census Tract 101.01; San Francisco County; Cal...   \n",
       "2  06075010102  Census Tract 101.02; San Francisco County; Cal...   \n",
       "3  06075010201  Census Tract 102.01; San Francisco County; Cal...   \n",
       "4  06075010202  Census Tract 102.02; San Francisco County; Cal...   \n",
       "5  06075010300  Census Tract 103; San Francisco County; Califo...   \n",
       "\n",
       "   Total tract pop  Black pop (in %)  Asian pop (in %)  \\\n",
       "1             2121           150.591           897.183   \n",
       "2             1908           337.716           774.648   \n",
       "3             2473           185.475           175.583   \n",
       "4             1859            57.629           329.043   \n",
       "5             3925             0.000          1051.900   \n",
       "\n",
       "   Hispanic_Latino pop (in %)  White pop (in %)  \n",
       "1                     265.125           704.172  \n",
       "2                     286.200           469.368  \n",
       "3                     267.084          1758.303  \n",
       "4                      63.206          1178.606  \n",
       "5                     463.150          2323.600  "
      ]
     },
     "execution_count": 162,
     "metadata": {},
     "output_type": "execute_result"
    }
   ],
   "source": [
    "race.head()"
   ]
  },
  {
   "cell_type": "code",
   "execution_count": 163,
   "id": "6bf8451f-b908-4cd5-abeb-377120cf3322",
   "metadata": {},
   "outputs": [],
   "source": [
    "#renaming the columns again\n",
    "race = race.rename(\n",
    "    columns={\n",
    "        'Black pop (in %)' : 'Black pop',\n",
    "        'Asian pop (in %)' : 'Asian pop',\n",
    "        'Hispanic_Latino pop (in %)' : 'Hispanic_Latino pop',\n",
    "        'White pop (in %)' : 'White pop'\n",
    "    }\n",
    ") "
   ]
  },
  {
   "cell_type": "code",
   "execution_count": 164,
   "id": "859a707f-7f8b-4395-a29b-a520e14374db",
   "metadata": {},
   "outputs": [
    {
     "data": {
      "text/html": [
       "<div>\n",
       "<style scoped>\n",
       "    .dataframe tbody tr th:only-of-type {\n",
       "        vertical-align: middle;\n",
       "    }\n",
       "\n",
       "    .dataframe tbody tr th {\n",
       "        vertical-align: top;\n",
       "    }\n",
       "\n",
       "    .dataframe thead th {\n",
       "        text-align: right;\n",
       "    }\n",
       "</style>\n",
       "<table border=\"1\" class=\"dataframe\">\n",
       "  <thead>\n",
       "    <tr style=\"text-align: right;\">\n",
       "      <th></th>\n",
       "      <th>FIPS</th>\n",
       "      <th>Tract</th>\n",
       "      <th>Total tract pop</th>\n",
       "      <th>Black pop</th>\n",
       "      <th>Asian pop</th>\n",
       "      <th>Hispanic_Latino pop</th>\n",
       "      <th>White pop</th>\n",
       "    </tr>\n",
       "  </thead>\n",
       "  <tbody>\n",
       "    <tr>\n",
       "      <th>1</th>\n",
       "      <td>06075010101</td>\n",
       "      <td>Census Tract 101.01; San Francisco County; Cal...</td>\n",
       "      <td>2121</td>\n",
       "      <td>150.591</td>\n",
       "      <td>897.183</td>\n",
       "      <td>265.125</td>\n",
       "      <td>704.172</td>\n",
       "    </tr>\n",
       "    <tr>\n",
       "      <th>2</th>\n",
       "      <td>06075010102</td>\n",
       "      <td>Census Tract 101.02; San Francisco County; Cal...</td>\n",
       "      <td>1908</td>\n",
       "      <td>337.716</td>\n",
       "      <td>774.648</td>\n",
       "      <td>286.200</td>\n",
       "      <td>469.368</td>\n",
       "    </tr>\n",
       "    <tr>\n",
       "      <th>3</th>\n",
       "      <td>06075010201</td>\n",
       "      <td>Census Tract 102.01; San Francisco County; Cal...</td>\n",
       "      <td>2473</td>\n",
       "      <td>185.475</td>\n",
       "      <td>175.583</td>\n",
       "      <td>267.084</td>\n",
       "      <td>1758.303</td>\n",
       "    </tr>\n",
       "    <tr>\n",
       "      <th>4</th>\n",
       "      <td>06075010202</td>\n",
       "      <td>Census Tract 102.02; San Francisco County; Cal...</td>\n",
       "      <td>1859</td>\n",
       "      <td>57.629</td>\n",
       "      <td>329.043</td>\n",
       "      <td>63.206</td>\n",
       "      <td>1178.606</td>\n",
       "    </tr>\n",
       "    <tr>\n",
       "      <th>5</th>\n",
       "      <td>06075010300</td>\n",
       "      <td>Census Tract 103; San Francisco County; Califo...</td>\n",
       "      <td>3925</td>\n",
       "      <td>0.000</td>\n",
       "      <td>1051.900</td>\n",
       "      <td>463.150</td>\n",
       "      <td>2323.600</td>\n",
       "    </tr>\n",
       "  </tbody>\n",
       "</table>\n",
       "</div>"
      ],
      "text/plain": [
       "          FIPS                                              Tract  \\\n",
       "1  06075010101  Census Tract 101.01; San Francisco County; Cal...   \n",
       "2  06075010102  Census Tract 101.02; San Francisco County; Cal...   \n",
       "3  06075010201  Census Tract 102.01; San Francisco County; Cal...   \n",
       "4  06075010202  Census Tract 102.02; San Francisco County; Cal...   \n",
       "5  06075010300  Census Tract 103; San Francisco County; Califo...   \n",
       "\n",
       "   Total tract pop  Black pop  Asian pop  Hispanic_Latino pop  White pop  \n",
       "1             2121    150.591    897.183              265.125    704.172  \n",
       "2             1908    337.716    774.648              286.200    469.368  \n",
       "3             2473    185.475    175.583              267.084   1758.303  \n",
       "4             1859     57.629    329.043               63.206   1178.606  \n",
       "5             3925      0.000   1051.900              463.150   2323.600  "
      ]
     },
     "execution_count": 164,
     "metadata": {},
     "output_type": "execute_result"
    }
   ],
   "source": [
    "race.head()"
   ]
  },
  {
   "cell_type": "code",
   "execution_count": 165,
   "id": "69edee72-5044-48d9-acd7-7e3ae171eeac",
   "metadata": {},
   "outputs": [],
   "source": [
    "# process the neighborhoods data\n",
    "\n",
    "neighborhoods = pd.read_csv(\n",
    "    'data/SFCensusTractstoNeighborhoods.csv',\n",
    "    dtype={'geoid':str}\n",
    ")\n",
    "\n",
    "neighborhoods = neighborhoods[['neighborhoods_analysis_boundaries', 'geoid']]\n",
    "\n",
    "neighborhoods = neighborhoods.rename(\n",
    "    columns={'neighborhoods_analysis_boundaries': 'neighborhoods', \n",
    "        'geoid': 'FIPS'}\n",
    ")"
   ]
  },
  {
   "cell_type": "code",
   "execution_count": 166,
   "id": "74bcff24-185c-4083-baa0-975daeea4070",
   "metadata": {},
   "outputs": [],
   "source": [
    "# process tracts data\n",
    "tracts=gpd.read_file('data/Census 2020_ Tracts for San Francisco.geojson')\n",
    "tracts = tracts[['geoid','geometry']]\n",
    "tracts.columns = ['FIPS',\n",
    "                  'geometry'\n",
    "                 ]\n",
    "#getting rid of Farallone Islands\n",
    "tracts.drop([35,88,205], axis=0, inplace=True)"
   ]
  },
  {
   "cell_type": "code",
   "execution_count": 167,
   "id": "ee9d60cd-2879-461e-8725-563aec960a7f",
   "metadata": {},
   "outputs": [],
   "source": [
    "# merge all data. Output should be a GeoDataFrame\n",
    "race1 = race.merge(neighborhoods,on=\"FIPS\")\n",
    "race = race1.merge(tracts, on=\"FIPS\")\n",
    "# force it\n",
    "race = gpd.GeoDataFrame(race, geometry='geometry')"
   ]
  },
  {
   "cell_type": "code",
   "execution_count": 168,
   "id": "18979182-9f76-4b49-9ede-2eba4f5d2897",
   "metadata": {},
   "outputs": [
    {
     "data": {
      "text/html": [
       "<div>\n",
       "<style scoped>\n",
       "    .dataframe tbody tr th:only-of-type {\n",
       "        vertical-align: middle;\n",
       "    }\n",
       "\n",
       "    .dataframe tbody tr th {\n",
       "        vertical-align: top;\n",
       "    }\n",
       "\n",
       "    .dataframe thead th {\n",
       "        text-align: right;\n",
       "    }\n",
       "</style>\n",
       "<table border=\"1\" class=\"dataframe\">\n",
       "  <thead>\n",
       "    <tr style=\"text-align: right;\">\n",
       "      <th></th>\n",
       "      <th>FIPS</th>\n",
       "      <th>Tract</th>\n",
       "      <th>Total tract pop</th>\n",
       "      <th>Black pop</th>\n",
       "      <th>Asian pop</th>\n",
       "      <th>Hispanic_Latino pop</th>\n",
       "      <th>White pop</th>\n",
       "      <th>neighborhoods</th>\n",
       "      <th>geometry</th>\n",
       "    </tr>\n",
       "  </thead>\n",
       "  <tbody>\n",
       "    <tr>\n",
       "      <th>0</th>\n",
       "      <td>06075010101</td>\n",
       "      <td>Census Tract 101.01; San Francisco County; Cal...</td>\n",
       "      <td>2121</td>\n",
       "      <td>150.591</td>\n",
       "      <td>897.183</td>\n",
       "      <td>265.125</td>\n",
       "      <td>704.172</td>\n",
       "      <td>North Beach</td>\n",
       "      <td>MULTIPOLYGON (((-122.42108 37.81289, -122.4201...</td>\n",
       "    </tr>\n",
       "    <tr>\n",
       "      <th>1</th>\n",
       "      <td>06075010102</td>\n",
       "      <td>Census Tract 101.02; San Francisco County; Cal...</td>\n",
       "      <td>1908</td>\n",
       "      <td>337.716</td>\n",
       "      <td>774.648</td>\n",
       "      <td>286.200</td>\n",
       "      <td>469.368</td>\n",
       "      <td>North Beach</td>\n",
       "      <td>MULTIPOLYGON (((-122.41689 37.80521, -122.4152...</td>\n",
       "    </tr>\n",
       "    <tr>\n",
       "      <th>2</th>\n",
       "      <td>06075010201</td>\n",
       "      <td>Census Tract 102.01; San Francisco County; Cal...</td>\n",
       "      <td>2473</td>\n",
       "      <td>185.475</td>\n",
       "      <td>175.583</td>\n",
       "      <td>267.084</td>\n",
       "      <td>1758.303</td>\n",
       "      <td>Russian Hill</td>\n",
       "      <td>MULTIPOLYGON (((-122.42484 37.80227, -122.4246...</td>\n",
       "    </tr>\n",
       "    <tr>\n",
       "      <th>3</th>\n",
       "      <td>06075010202</td>\n",
       "      <td>Census Tract 102.02; San Francisco County; Cal...</td>\n",
       "      <td>1859</td>\n",
       "      <td>57.629</td>\n",
       "      <td>329.043</td>\n",
       "      <td>63.206</td>\n",
       "      <td>1178.606</td>\n",
       "      <td>Russian Hill</td>\n",
       "      <td>MULTIPOLYGON (((-122.42685 37.80902, -122.4268...</td>\n",
       "    </tr>\n",
       "    <tr>\n",
       "      <th>4</th>\n",
       "      <td>06075010300</td>\n",
       "      <td>Census Tract 103; San Francisco County; Califo...</td>\n",
       "      <td>3925</td>\n",
       "      <td>0.000</td>\n",
       "      <td>1051.900</td>\n",
       "      <td>463.150</td>\n",
       "      <td>2323.600</td>\n",
       "      <td>Russian Hill</td>\n",
       "      <td>MULTIPOLYGON (((-122.41872 37.80593, -122.4183...</td>\n",
       "    </tr>\n",
       "  </tbody>\n",
       "</table>\n",
       "</div>"
      ],
      "text/plain": [
       "          FIPS                                              Tract  \\\n",
       "0  06075010101  Census Tract 101.01; San Francisco County; Cal...   \n",
       "1  06075010102  Census Tract 101.02; San Francisco County; Cal...   \n",
       "2  06075010201  Census Tract 102.01; San Francisco County; Cal...   \n",
       "3  06075010202  Census Tract 102.02; San Francisco County; Cal...   \n",
       "4  06075010300  Census Tract 103; San Francisco County; Califo...   \n",
       "\n",
       "   Total tract pop  Black pop  Asian pop  Hispanic_Latino pop  White pop  \\\n",
       "0             2121    150.591    897.183              265.125    704.172   \n",
       "1             1908    337.716    774.648              286.200    469.368   \n",
       "2             2473    185.475    175.583              267.084   1758.303   \n",
       "3             1859     57.629    329.043               63.206   1178.606   \n",
       "4             3925      0.000   1051.900              463.150   2323.600   \n",
       "\n",
       "  neighborhoods                                           geometry  \n",
       "0   North Beach  MULTIPOLYGON (((-122.42108 37.81289, -122.4201...  \n",
       "1   North Beach  MULTIPOLYGON (((-122.41689 37.80521, -122.4152...  \n",
       "2  Russian Hill  MULTIPOLYGON (((-122.42484 37.80227, -122.4246...  \n",
       "3  Russian Hill  MULTIPOLYGON (((-122.42685 37.80902, -122.4268...  \n",
       "4  Russian Hill  MULTIPOLYGON (((-122.41872 37.80593, -122.4183...  "
      ]
     },
     "execution_count": 168,
     "metadata": {},
     "output_type": "execute_result"
    }
   ],
   "source": [
    "race.head()"
   ]
  },
  {
   "cell_type": "code",
   "execution_count": 169,
   "id": "979deef6-b164-4953-8725-378f4c6dc33a",
   "metadata": {},
   "outputs": [
    {
     "name": "stdout",
     "output_type": "stream",
     "text": [
      "Total SF population: 851036\n"
     ]
    }
   ],
   "source": [
    "# total city population\n",
    "total_citypop = race['Total tract pop'].sum()\n",
    "print('Total SF population:', total_citypop)"
   ]
  },
  {
   "cell_type": "code",
   "execution_count": 170,
   "id": "33c1bc6a-3172-47a5-af82-7021e01837e1",
   "metadata": {},
   "outputs": [],
   "source": [
    "# calculating neighborhood totals\n",
    "neighborhood_totals = race.groupby('neighborhoods').sum(numeric_only=True)\n"
   ]
  },
  {
   "cell_type": "code",
   "execution_count": 171,
   "id": "8091be52-c214-4083-a4a6-29a53329f5ac",
   "metadata": {},
   "outputs": [],
   "source": [
    "race_neighborhood = neighborhood_totals.copy()\n",
    "race_columns = [col for col in race.columns if 'pop' in col and col != 'Total tract pop']"
   ]
  },
  {
   "cell_type": "code",
   "execution_count": 172,
   "id": "38ba0ef3-90be-45dd-9d1d-c5ed0a930dfe",
   "metadata": {},
   "outputs": [
    {
     "data": {
      "text/html": [
       "<div>\n",
       "<style scoped>\n",
       "    .dataframe tbody tr th:only-of-type {\n",
       "        vertical-align: middle;\n",
       "    }\n",
       "\n",
       "    .dataframe tbody tr th {\n",
       "        vertical-align: top;\n",
       "    }\n",
       "\n",
       "    .dataframe thead th {\n",
       "        text-align: right;\n",
       "    }\n",
       "</style>\n",
       "<table border=\"1\" class=\"dataframe\">\n",
       "  <thead>\n",
       "    <tr style=\"text-align: right;\">\n",
       "      <th></th>\n",
       "      <th>Total tract pop</th>\n",
       "      <th>Black pop</th>\n",
       "      <th>Asian pop</th>\n",
       "      <th>Hispanic_Latino pop</th>\n",
       "      <th>White pop</th>\n",
       "    </tr>\n",
       "    <tr>\n",
       "      <th>neighborhoods</th>\n",
       "      <th></th>\n",
       "      <th></th>\n",
       "      <th></th>\n",
       "      <th></th>\n",
       "      <th></th>\n",
       "    </tr>\n",
       "  </thead>\n",
       "  <tbody>\n",
       "    <tr>\n",
       "      <th>Bayview Hunters Point</th>\n",
       "      <td>40495</td>\n",
       "      <td>9813.102</td>\n",
       "      <td>15636.443</td>\n",
       "      <td>10107.912</td>\n",
       "      <td>3143.903</td>\n",
       "    </tr>\n",
       "    <tr>\n",
       "      <th>Bernal Heights</th>\n",
       "      <td>24767</td>\n",
       "      <td>1092.399</td>\n",
       "      <td>3848.830</td>\n",
       "      <td>7832.614</td>\n",
       "      <td>10052.659</td>\n",
       "    </tr>\n",
       "    <tr>\n",
       "      <th>Castro/Upper Market</th>\n",
       "      <td>22623</td>\n",
       "      <td>675.247</td>\n",
       "      <td>2922.990</td>\n",
       "      <td>2300.200</td>\n",
       "      <td>15160.604</td>\n",
       "    </tr>\n",
       "    <tr>\n",
       "      <th>Chinatown</th>\n",
       "      <td>13693</td>\n",
       "      <td>227.776</td>\n",
       "      <td>11457.295</td>\n",
       "      <td>501.960</td>\n",
       "      <td>957.473</td>\n",
       "    </tr>\n",
       "    <tr>\n",
       "      <th>Excelsior</th>\n",
       "      <td>38846</td>\n",
       "      <td>881.035</td>\n",
       "      <td>19135.220</td>\n",
       "      <td>12297.269</td>\n",
       "      <td>5893.139</td>\n",
       "    </tr>\n",
       "  </tbody>\n",
       "</table>\n",
       "</div>"
      ],
      "text/plain": [
       "                       Total tract pop  Black pop  Asian pop  \\\n",
       "neighborhoods                                                  \n",
       "Bayview Hunters Point            40495   9813.102  15636.443   \n",
       "Bernal Heights                   24767   1092.399   3848.830   \n",
       "Castro/Upper Market              22623    675.247   2922.990   \n",
       "Chinatown                        13693    227.776  11457.295   \n",
       "Excelsior                        38846    881.035  19135.220   \n",
       "\n",
       "                       Hispanic_Latino pop  White pop  \n",
       "neighborhoods                                          \n",
       "Bayview Hunters Point            10107.912   3143.903  \n",
       "Bernal Heights                    7832.614  10052.659  \n",
       "Castro/Upper Market               2300.200  15160.604  \n",
       "Chinatown                          501.960    957.473  \n",
       "Excelsior                        12297.269   5893.139  "
      ]
     },
     "execution_count": 172,
     "metadata": {},
     "output_type": "execute_result"
    }
   ],
   "source": [
    "race_neighborhood.head()"
   ]
  },
  {
   "cell_type": "code",
   "execution_count": 173,
   "id": "43cfba85-66b1-46aa-936e-c81b64c373a1",
   "metadata": {},
   "outputs": [],
   "source": [
    "for col in race_columns:\n",
    "    race_neighborhood[col + ' (%)'] = (race_neighborhood[col] / total_citypop) * 100\n"
   ]
  },
  {
   "cell_type": "code",
   "execution_count": 174,
   "id": "aed98f4f-f0bc-42b1-8fe4-e0d51ff973f4",
   "metadata": {},
   "outputs": [],
   "source": [
    "race_neighborhood = race_neighborhood.reset_index()"
   ]
  },
  {
   "cell_type": "code",
   "execution_count": 175,
   "id": "bef62919-2dcb-463d-8586-10bdae3897a3",
   "metadata": {},
   "outputs": [
    {
     "name": "stdout",
     "output_type": "stream",
     "text": [
      "<class 'pandas.core.frame.DataFrame'>\n",
      "RangeIndex: 41 entries, 0 to 40\n",
      "Data columns (total 10 columns):\n",
      " #   Column                   Non-Null Count  Dtype  \n",
      "---  ------                   --------------  -----  \n",
      " 0   neighborhoods            41 non-null     object \n",
      " 1   Total tract pop          41 non-null     int64  \n",
      " 2   Black pop                41 non-null     float64\n",
      " 3   Asian pop                41 non-null     float64\n",
      " 4   Hispanic_Latino pop      41 non-null     float64\n",
      " 5   White pop                41 non-null     float64\n",
      " 6   Black pop (%)            41 non-null     float64\n",
      " 7   Asian pop (%)            41 non-null     float64\n",
      " 8   Hispanic_Latino pop (%)  41 non-null     float64\n",
      " 9   White pop (%)            41 non-null     float64\n",
      "dtypes: float64(8), int64(1), object(1)\n",
      "memory usage: 3.3+ KB\n"
     ]
    }
   ],
   "source": [
    "race_neighborhood.info()"
   ]
  },
  {
   "cell_type": "code",
   "execution_count": 176,
   "id": "b53ab7b3-a76a-4a4b-806e-cccca864aeff",
   "metadata": {},
   "outputs": [
    {
     "name": "stdout",
     "output_type": "stream",
     "text": [
      "% of Asians in SF: 34.794305176279266 %\n"
     ]
    }
   ],
   "source": [
    "# double checking my numbers\n",
    "total_asian = race_neighborhood['Asian pop (%)'].sum()\n",
    "print('% of Asians in SF:', total_asian, '%')"
   ]
  },
  {
   "cell_type": "code",
   "execution_count": 177,
   "id": "5b15caa3-318a-4e3e-8d7b-d763f6f680ee",
   "metadata": {},
   "outputs": [],
   "source": [
    "# merging\n",
    "race = race.merge(\n",
    "    race_neighborhood[['neighborhoods', 'Black pop (%)', 'Asian pop (%)', 'Hispanic_Latino pop (%)', 'White pop (%)']],\n",
    "    on='neighborhoods',\n",
    "    how='left'\n",
    ")"
   ]
  },
  {
   "cell_type": "code",
   "execution_count": 178,
   "id": "dce9745d-8360-47c4-a605-f25d147d8ccb",
   "metadata": {},
   "outputs": [
    {
     "data": {
      "text/html": [
       "<div>\n",
       "<style scoped>\n",
       "    .dataframe tbody tr th:only-of-type {\n",
       "        vertical-align: middle;\n",
       "    }\n",
       "\n",
       "    .dataframe tbody tr th {\n",
       "        vertical-align: top;\n",
       "    }\n",
       "\n",
       "    .dataframe thead th {\n",
       "        text-align: right;\n",
       "    }\n",
       "</style>\n",
       "<table border=\"1\" class=\"dataframe\">\n",
       "  <thead>\n",
       "    <tr style=\"text-align: right;\">\n",
       "      <th></th>\n",
       "      <th>FIPS</th>\n",
       "      <th>Tract</th>\n",
       "      <th>Total tract pop</th>\n",
       "      <th>Black pop</th>\n",
       "      <th>Asian pop</th>\n",
       "      <th>Hispanic_Latino pop</th>\n",
       "      <th>White pop</th>\n",
       "      <th>neighborhoods</th>\n",
       "      <th>geometry</th>\n",
       "      <th>Black pop (%)</th>\n",
       "      <th>Asian pop (%)</th>\n",
       "      <th>Hispanic_Latino pop (%)</th>\n",
       "      <th>White pop (%)</th>\n",
       "    </tr>\n",
       "  </thead>\n",
       "  <tbody>\n",
       "    <tr>\n",
       "      <th>0</th>\n",
       "      <td>06075010101</td>\n",
       "      <td>Census Tract 101.01; San Francisco County; Cal...</td>\n",
       "      <td>2121</td>\n",
       "      <td>150.591</td>\n",
       "      <td>897.183</td>\n",
       "      <td>265.125</td>\n",
       "      <td>704.172</td>\n",
       "      <td>North Beach</td>\n",
       "      <td>MULTIPOLYGON (((-122.42108 37.81289, -122.4201...</td>\n",
       "      <td>0.070859</td>\n",
       "      <td>0.474441</td>\n",
       "      <td>0.168007</td>\n",
       "      <td>0.581496</td>\n",
       "    </tr>\n",
       "    <tr>\n",
       "      <th>1</th>\n",
       "      <td>06075010102</td>\n",
       "      <td>Census Tract 101.02; San Francisco County; Cal...</td>\n",
       "      <td>1908</td>\n",
       "      <td>337.716</td>\n",
       "      <td>774.648</td>\n",
       "      <td>286.200</td>\n",
       "      <td>469.368</td>\n",
       "      <td>North Beach</td>\n",
       "      <td>MULTIPOLYGON (((-122.41689 37.80521, -122.4152...</td>\n",
       "      <td>0.070859</td>\n",
       "      <td>0.474441</td>\n",
       "      <td>0.168007</td>\n",
       "      <td>0.581496</td>\n",
       "    </tr>\n",
       "    <tr>\n",
       "      <th>2</th>\n",
       "      <td>06075010201</td>\n",
       "      <td>Census Tract 102.01; San Francisco County; Cal...</td>\n",
       "      <td>2473</td>\n",
       "      <td>185.475</td>\n",
       "      <td>175.583</td>\n",
       "      <td>267.084</td>\n",
       "      <td>1758.303</td>\n",
       "      <td>Russian Hill</td>\n",
       "      <td>MULTIPOLYGON (((-122.42484 37.80227, -122.4246...</td>\n",
       "      <td>0.038113</td>\n",
       "      <td>0.494914</td>\n",
       "      <td>0.172260</td>\n",
       "      <td>1.241015</td>\n",
       "    </tr>\n",
       "    <tr>\n",
       "      <th>3</th>\n",
       "      <td>06075010202</td>\n",
       "      <td>Census Tract 102.02; San Francisco County; Cal...</td>\n",
       "      <td>1859</td>\n",
       "      <td>57.629</td>\n",
       "      <td>329.043</td>\n",
       "      <td>63.206</td>\n",
       "      <td>1178.606</td>\n",
       "      <td>Russian Hill</td>\n",
       "      <td>MULTIPOLYGON (((-122.42685 37.80902, -122.4268...</td>\n",
       "      <td>0.038113</td>\n",
       "      <td>0.494914</td>\n",
       "      <td>0.172260</td>\n",
       "      <td>1.241015</td>\n",
       "    </tr>\n",
       "    <tr>\n",
       "      <th>4</th>\n",
       "      <td>06075010300</td>\n",
       "      <td>Census Tract 103; San Francisco County; Califo...</td>\n",
       "      <td>3925</td>\n",
       "      <td>0.000</td>\n",
       "      <td>1051.900</td>\n",
       "      <td>463.150</td>\n",
       "      <td>2323.600</td>\n",
       "      <td>Russian Hill</td>\n",
       "      <td>MULTIPOLYGON (((-122.41872 37.80593, -122.4183...</td>\n",
       "      <td>0.038113</td>\n",
       "      <td>0.494914</td>\n",
       "      <td>0.172260</td>\n",
       "      <td>1.241015</td>\n",
       "    </tr>\n",
       "  </tbody>\n",
       "</table>\n",
       "</div>"
      ],
      "text/plain": [
       "          FIPS                                              Tract  \\\n",
       "0  06075010101  Census Tract 101.01; San Francisco County; Cal...   \n",
       "1  06075010102  Census Tract 101.02; San Francisco County; Cal...   \n",
       "2  06075010201  Census Tract 102.01; San Francisco County; Cal...   \n",
       "3  06075010202  Census Tract 102.02; San Francisco County; Cal...   \n",
       "4  06075010300  Census Tract 103; San Francisco County; Califo...   \n",
       "\n",
       "   Total tract pop  Black pop  Asian pop  Hispanic_Latino pop  White pop  \\\n",
       "0             2121    150.591    897.183              265.125    704.172   \n",
       "1             1908    337.716    774.648              286.200    469.368   \n",
       "2             2473    185.475    175.583              267.084   1758.303   \n",
       "3             1859     57.629    329.043               63.206   1178.606   \n",
       "4             3925      0.000   1051.900              463.150   2323.600   \n",
       "\n",
       "  neighborhoods                                           geometry  \\\n",
       "0   North Beach  MULTIPOLYGON (((-122.42108 37.81289, -122.4201...   \n",
       "1   North Beach  MULTIPOLYGON (((-122.41689 37.80521, -122.4152...   \n",
       "2  Russian Hill  MULTIPOLYGON (((-122.42484 37.80227, -122.4246...   \n",
       "3  Russian Hill  MULTIPOLYGON (((-122.42685 37.80902, -122.4268...   \n",
       "4  Russian Hill  MULTIPOLYGON (((-122.41872 37.80593, -122.4183...   \n",
       "\n",
       "   Black pop (%)  Asian pop (%)  Hispanic_Latino pop (%)  White pop (%)  \n",
       "0       0.070859       0.474441                 0.168007       0.581496  \n",
       "1       0.070859       0.474441                 0.168007       0.581496  \n",
       "2       0.038113       0.494914                 0.172260       1.241015  \n",
       "3       0.038113       0.494914                 0.172260       1.241015  \n",
       "4       0.038113       0.494914                 0.172260       1.241015  "
      ]
     },
     "execution_count": 178,
     "metadata": {},
     "output_type": "execute_result"
    }
   ],
   "source": [
    "race.head()"
   ]
  },
  {
   "cell_type": "code",
   "execution_count": 179,
   "id": "f68c3250-f8f8-4d90-86f9-92e27b29b99e",
   "metadata": {},
   "outputs": [
    {
     "data": {
      "application/vnd.plotly.v1+json": {
       "config": {
        "plotlyServerURL": "https://plot.ly"
       },
       "data": [
        {
         "alignmentgroup": "True",
         "hovertemplate": "neighborhoods=%{x}<br>Black pop (%)=%{y}<extra></extra>",
         "legendgroup": "",
         "marker": {
          "color": "lightseagreen",
          "pattern": {
           "shape": ""
          }
         },
         "name": "",
         "offsetgroup": "",
         "orientation": "v",
         "showlegend": false,
         "textposition": "auto",
         "type": "bar",
         "x": [
          "Bayview Hunters Point",
          "Bernal Heights",
          "Castro/Upper Market",
          "Chinatown",
          "Excelsior",
          "Financial District/South Beach",
          "Glen Park",
          "Golden Gate Park",
          "Haight Ashbury",
          "Hayes Valley",
          "Inner Richmond",
          "Inner Sunset",
          "Japantown",
          "Lakeshore",
          "Lincoln Park",
          "Lone Mountain/USF",
          "Marina",
          "McLaren Park",
          "Mission",
          "Mission Bay",
          "Nob Hill",
          "Noe Valley",
          "North Beach",
          "Oceanview/Merced/Ingleside",
          "Outer Mission",
          "Outer Richmond",
          "Pacific Heights",
          "Portola",
          "Potrero Hill",
          "Presidio",
          "Presidio Heights",
          "Russian Hill",
          "Seacliff",
          "South of Market",
          "Sunset/Parkside",
          "Tenderloin",
          "Treasure Island",
          "Twin Peaks",
          "Visitacion Valley",
          "West of Twin Peaks",
          "Western Addition"
         ],
         "xaxis": "x",
         "y": [
          1.1530771906241335,
          0.128361079907313,
          0.07934411705262763,
          0.02676455520095507,
          0.10352499776742702,
          0.03761368496749844,
          0.06674629510384991,
          0,
          0.09127533970360831,
          0.19320592783384016,
          0.03614841205307413,
          0.08791519982703436,
          0.016992465653626873,
          0.12330535958525846,
          0.005179804379603213,
          0.0909733548287029,
          0.01155979300523127,
          0,
          0.33725306567524754,
          0.12187827541960622,
          0.13777125762012418,
          0.050198228982087714,
          0.07085869457931275,
          0.21863822446994016,
          0.07891229043189713,
          0.07909136628767761,
          0.1197116220700417,
          0.055570974670871735,
          0.058706212193138714,
          0.006501252590959724,
          0.005537251068109927,
          0.03811295879375256,
          0.0035866872846742085,
          0.2180578729924469,
          0.1333667435925155,
          0.35490907552676976,
          0.05895872795040397,
          0.04615174916219761,
          0.19582238589201864,
          0.10525394930414225,
          0.4305490014523475
         ],
         "yaxis": "y"
        }
       ],
       "layout": {
        "autosize": true,
        "barmode": "group",
        "legend": {
         "tracegroupgap": 0
        },
        "template": {
         "data": {
          "bar": [
           {
            "error_x": {
             "color": "#2a3f5f"
            },
            "error_y": {
             "color": "#2a3f5f"
            },
            "marker": {
             "line": {
              "color": "#E5ECF6",
              "width": 0.5
             },
             "pattern": {
              "fillmode": "overlay",
              "size": 10,
              "solidity": 0.2
             }
            },
            "type": "bar"
           }
          ],
          "barpolar": [
           {
            "marker": {
             "line": {
              "color": "#E5ECF6",
              "width": 0.5
             },
             "pattern": {
              "fillmode": "overlay",
              "size": 10,
              "solidity": 0.2
             }
            },
            "type": "barpolar"
           }
          ],
          "carpet": [
           {
            "aaxis": {
             "endlinecolor": "#2a3f5f",
             "gridcolor": "white",
             "linecolor": "white",
             "minorgridcolor": "white",
             "startlinecolor": "#2a3f5f"
            },
            "baxis": {
             "endlinecolor": "#2a3f5f",
             "gridcolor": "white",
             "linecolor": "white",
             "minorgridcolor": "white",
             "startlinecolor": "#2a3f5f"
            },
            "type": "carpet"
           }
          ],
          "choropleth": [
           {
            "colorbar": {
             "outlinewidth": 0,
             "ticks": ""
            },
            "type": "choropleth"
           }
          ],
          "contour": [
           {
            "colorbar": {
             "outlinewidth": 0,
             "ticks": ""
            },
            "colorscale": [
             [
              0,
              "#0d0887"
             ],
             [
              0.1111111111111111,
              "#46039f"
             ],
             [
              0.2222222222222222,
              "#7201a8"
             ],
             [
              0.3333333333333333,
              "#9c179e"
             ],
             [
              0.4444444444444444,
              "#bd3786"
             ],
             [
              0.5555555555555556,
              "#d8576b"
             ],
             [
              0.6666666666666666,
              "#ed7953"
             ],
             [
              0.7777777777777778,
              "#fb9f3a"
             ],
             [
              0.8888888888888888,
              "#fdca26"
             ],
             [
              1,
              "#f0f921"
             ]
            ],
            "type": "contour"
           }
          ],
          "contourcarpet": [
           {
            "colorbar": {
             "outlinewidth": 0,
             "ticks": ""
            },
            "type": "contourcarpet"
           }
          ],
          "heatmap": [
           {
            "colorbar": {
             "outlinewidth": 0,
             "ticks": ""
            },
            "colorscale": [
             [
              0,
              "#0d0887"
             ],
             [
              0.1111111111111111,
              "#46039f"
             ],
             [
              0.2222222222222222,
              "#7201a8"
             ],
             [
              0.3333333333333333,
              "#9c179e"
             ],
             [
              0.4444444444444444,
              "#bd3786"
             ],
             [
              0.5555555555555556,
              "#d8576b"
             ],
             [
              0.6666666666666666,
              "#ed7953"
             ],
             [
              0.7777777777777778,
              "#fb9f3a"
             ],
             [
              0.8888888888888888,
              "#fdca26"
             ],
             [
              1,
              "#f0f921"
             ]
            ],
            "type": "heatmap"
           }
          ],
          "heatmapgl": [
           {
            "colorbar": {
             "outlinewidth": 0,
             "ticks": ""
            },
            "colorscale": [
             [
              0,
              "#0d0887"
             ],
             [
              0.1111111111111111,
              "#46039f"
             ],
             [
              0.2222222222222222,
              "#7201a8"
             ],
             [
              0.3333333333333333,
              "#9c179e"
             ],
             [
              0.4444444444444444,
              "#bd3786"
             ],
             [
              0.5555555555555556,
              "#d8576b"
             ],
             [
              0.6666666666666666,
              "#ed7953"
             ],
             [
              0.7777777777777778,
              "#fb9f3a"
             ],
             [
              0.8888888888888888,
              "#fdca26"
             ],
             [
              1,
              "#f0f921"
             ]
            ],
            "type": "heatmapgl"
           }
          ],
          "histogram": [
           {
            "marker": {
             "pattern": {
              "fillmode": "overlay",
              "size": 10,
              "solidity": 0.2
             }
            },
            "type": "histogram"
           }
          ],
          "histogram2d": [
           {
            "colorbar": {
             "outlinewidth": 0,
             "ticks": ""
            },
            "colorscale": [
             [
              0,
              "#0d0887"
             ],
             [
              0.1111111111111111,
              "#46039f"
             ],
             [
              0.2222222222222222,
              "#7201a8"
             ],
             [
              0.3333333333333333,
              "#9c179e"
             ],
             [
              0.4444444444444444,
              "#bd3786"
             ],
             [
              0.5555555555555556,
              "#d8576b"
             ],
             [
              0.6666666666666666,
              "#ed7953"
             ],
             [
              0.7777777777777778,
              "#fb9f3a"
             ],
             [
              0.8888888888888888,
              "#fdca26"
             ],
             [
              1,
              "#f0f921"
             ]
            ],
            "type": "histogram2d"
           }
          ],
          "histogram2dcontour": [
           {
            "colorbar": {
             "outlinewidth": 0,
             "ticks": ""
            },
            "colorscale": [
             [
              0,
              "#0d0887"
             ],
             [
              0.1111111111111111,
              "#46039f"
             ],
             [
              0.2222222222222222,
              "#7201a8"
             ],
             [
              0.3333333333333333,
              "#9c179e"
             ],
             [
              0.4444444444444444,
              "#bd3786"
             ],
             [
              0.5555555555555556,
              "#d8576b"
             ],
             [
              0.6666666666666666,
              "#ed7953"
             ],
             [
              0.7777777777777778,
              "#fb9f3a"
             ],
             [
              0.8888888888888888,
              "#fdca26"
             ],
             [
              1,
              "#f0f921"
             ]
            ],
            "type": "histogram2dcontour"
           }
          ],
          "mesh3d": [
           {
            "colorbar": {
             "outlinewidth": 0,
             "ticks": ""
            },
            "type": "mesh3d"
           }
          ],
          "parcoords": [
           {
            "line": {
             "colorbar": {
              "outlinewidth": 0,
              "ticks": ""
             }
            },
            "type": "parcoords"
           }
          ],
          "pie": [
           {
            "automargin": true,
            "type": "pie"
           }
          ],
          "scatter": [
           {
            "fillpattern": {
             "fillmode": "overlay",
             "size": 10,
             "solidity": 0.2
            },
            "type": "scatter"
           }
          ],
          "scatter3d": [
           {
            "line": {
             "colorbar": {
              "outlinewidth": 0,
              "ticks": ""
             }
            },
            "marker": {
             "colorbar": {
              "outlinewidth": 0,
              "ticks": ""
             }
            },
            "type": "scatter3d"
           }
          ],
          "scattercarpet": [
           {
            "marker": {
             "colorbar": {
              "outlinewidth": 0,
              "ticks": ""
             }
            },
            "type": "scattercarpet"
           }
          ],
          "scattergeo": [
           {
            "marker": {
             "colorbar": {
              "outlinewidth": 0,
              "ticks": ""
             }
            },
            "type": "scattergeo"
           }
          ],
          "scattergl": [
           {
            "marker": {
             "colorbar": {
              "outlinewidth": 0,
              "ticks": ""
             }
            },
            "type": "scattergl"
           }
          ],
          "scattermapbox": [
           {
            "marker": {
             "colorbar": {
              "outlinewidth": 0,
              "ticks": ""
             }
            },
            "type": "scattermapbox"
           }
          ],
          "scatterpolar": [
           {
            "marker": {
             "colorbar": {
              "outlinewidth": 0,
              "ticks": ""
             }
            },
            "type": "scatterpolar"
           }
          ],
          "scatterpolargl": [
           {
            "marker": {
             "colorbar": {
              "outlinewidth": 0,
              "ticks": ""
             }
            },
            "type": "scatterpolargl"
           }
          ],
          "scatterternary": [
           {
            "marker": {
             "colorbar": {
              "outlinewidth": 0,
              "ticks": ""
             }
            },
            "type": "scatterternary"
           }
          ],
          "surface": [
           {
            "colorbar": {
             "outlinewidth": 0,
             "ticks": ""
            },
            "colorscale": [
             [
              0,
              "#0d0887"
             ],
             [
              0.1111111111111111,
              "#46039f"
             ],
             [
              0.2222222222222222,
              "#7201a8"
             ],
             [
              0.3333333333333333,
              "#9c179e"
             ],
             [
              0.4444444444444444,
              "#bd3786"
             ],
             [
              0.5555555555555556,
              "#d8576b"
             ],
             [
              0.6666666666666666,
              "#ed7953"
             ],
             [
              0.7777777777777778,
              "#fb9f3a"
             ],
             [
              0.8888888888888888,
              "#fdca26"
             ],
             [
              1,
              "#f0f921"
             ]
            ],
            "type": "surface"
           }
          ],
          "table": [
           {
            "cells": {
             "fill": {
              "color": "#EBF0F8"
             },
             "line": {
              "color": "white"
             }
            },
            "header": {
             "fill": {
              "color": "#C8D4E3"
             },
             "line": {
              "color": "white"
             }
            },
            "type": "table"
           }
          ]
         },
         "layout": {
          "annotationdefaults": {
           "arrowcolor": "#2a3f5f",
           "arrowhead": 0,
           "arrowwidth": 1
          },
          "autotypenumbers": "strict",
          "coloraxis": {
           "colorbar": {
            "outlinewidth": 0,
            "ticks": ""
           }
          },
          "colorscale": {
           "diverging": [
            [
             0,
             "#8e0152"
            ],
            [
             0.1,
             "#c51b7d"
            ],
            [
             0.2,
             "#de77ae"
            ],
            [
             0.3,
             "#f1b6da"
            ],
            [
             0.4,
             "#fde0ef"
            ],
            [
             0.5,
             "#f7f7f7"
            ],
            [
             0.6,
             "#e6f5d0"
            ],
            [
             0.7,
             "#b8e186"
            ],
            [
             0.8,
             "#7fbc41"
            ],
            [
             0.9,
             "#4d9221"
            ],
            [
             1,
             "#276419"
            ]
           ],
           "sequential": [
            [
             0,
             "#0d0887"
            ],
            [
             0.1111111111111111,
             "#46039f"
            ],
            [
             0.2222222222222222,
             "#7201a8"
            ],
            [
             0.3333333333333333,
             "#9c179e"
            ],
            [
             0.4444444444444444,
             "#bd3786"
            ],
            [
             0.5555555555555556,
             "#d8576b"
            ],
            [
             0.6666666666666666,
             "#ed7953"
            ],
            [
             0.7777777777777778,
             "#fb9f3a"
            ],
            [
             0.8888888888888888,
             "#fdca26"
            ],
            [
             1,
             "#f0f921"
            ]
           ],
           "sequentialminus": [
            [
             0,
             "#0d0887"
            ],
            [
             0.1111111111111111,
             "#46039f"
            ],
            [
             0.2222222222222222,
             "#7201a8"
            ],
            [
             0.3333333333333333,
             "#9c179e"
            ],
            [
             0.4444444444444444,
             "#bd3786"
            ],
            [
             0.5555555555555556,
             "#d8576b"
            ],
            [
             0.6666666666666666,
             "#ed7953"
            ],
            [
             0.7777777777777778,
             "#fb9f3a"
            ],
            [
             0.8888888888888888,
             "#fdca26"
            ],
            [
             1,
             "#f0f921"
            ]
           ]
          },
          "colorway": [
           "#636efa",
           "#EF553B",
           "#00cc96",
           "#ab63fa",
           "#FFA15A",
           "#19d3f3",
           "#FF6692",
           "#B6E880",
           "#FF97FF",
           "#FECB52"
          ],
          "font": {
           "color": "#2a3f5f"
          },
          "geo": {
           "bgcolor": "white",
           "lakecolor": "white",
           "landcolor": "#E5ECF6",
           "showlakes": true,
           "showland": true,
           "subunitcolor": "white"
          },
          "hoverlabel": {
           "align": "left"
          },
          "hovermode": "closest",
          "mapbox": {
           "style": "light"
          },
          "paper_bgcolor": "white",
          "plot_bgcolor": "#E5ECF6",
          "polar": {
           "angularaxis": {
            "gridcolor": "white",
            "linecolor": "white",
            "ticks": ""
           },
           "bgcolor": "#E5ECF6",
           "radialaxis": {
            "gridcolor": "white",
            "linecolor": "white",
            "ticks": ""
           }
          },
          "scene": {
           "xaxis": {
            "backgroundcolor": "#E5ECF6",
            "gridcolor": "white",
            "gridwidth": 2,
            "linecolor": "white",
            "showbackground": true,
            "ticks": "",
            "zerolinecolor": "white"
           },
           "yaxis": {
            "backgroundcolor": "#E5ECF6",
            "gridcolor": "white",
            "gridwidth": 2,
            "linecolor": "white",
            "showbackground": true,
            "ticks": "",
            "zerolinecolor": "white"
           },
           "zaxis": {
            "backgroundcolor": "#E5ECF6",
            "gridcolor": "white",
            "gridwidth": 2,
            "linecolor": "white",
            "showbackground": true,
            "ticks": "",
            "zerolinecolor": "white"
           }
          },
          "shapedefaults": {
           "line": {
            "color": "#2a3f5f"
           }
          },
          "ternary": {
           "aaxis": {
            "gridcolor": "white",
            "linecolor": "white",
            "ticks": ""
           },
           "baxis": {
            "gridcolor": "white",
            "linecolor": "white",
            "ticks": ""
           },
           "bgcolor": "#E5ECF6",
           "caxis": {
            "gridcolor": "white",
            "linecolor": "white",
            "ticks": ""
           }
          },
          "title": {
           "x": 0.05
          },
          "xaxis": {
           "automargin": true,
           "gridcolor": "white",
           "linecolor": "white",
           "ticks": "",
           "title": {
            "standoff": 15
           },
           "zerolinecolor": "white",
           "zerolinewidth": 2
          },
          "yaxis": {
           "automargin": true,
           "gridcolor": "white",
           "linecolor": "white",
           "ticks": "",
           "title": {
            "standoff": 15
           },
           "zerolinecolor": "white",
           "zerolinewidth": 2
          }
         }
        },
        "title": {
         "text": "Percent of Black people per neighborhood in San Francisco"
        },
        "xaxis": {
         "anchor": "y",
         "autorange": true,
         "domain": [
          0,
          1
         ],
         "range": [
          -0.5,
          40.5
         ],
         "title": {
          "text": "neighborhoods"
         },
         "type": "category"
        },
        "yaxis": {
         "anchor": "x",
         "autorange": true,
         "domain": [
          0,
          1
         ],
         "range": [
          0,
          1.2137654638148774
         ],
         "title": {
          "text": "Black pop (%)"
         },
         "type": "linear"
        }
       }
      },
      "image/png": "[encoded data removed]",
      "text/html": [
       "<div>                            <div id=\"bc16650d-2499-4e70-91c6-7bd277f9c7ba\" class=\"plotly-graph-div\" style=\"height:700px; width:100%;\"></div>            <script type=\"text/javascript\">                require([\"plotly\"], function(Plotly) {                    window.PLOTLYENV=window.PLOTLYENV || {};                                    if (document.getElementById(\"bc16650d-2499-4e70-91c6-7bd277f9c7ba\")) {                    Plotly.newPlot(                        \"bc16650d-2499-4e70-91c6-7bd277f9c7ba\",                        [{\"alignmentgroup\":\"True\",\"hovertemplate\":\"neighborhoods=%{x}\\u003cbr\\u003eBlack pop (%)=%{y}\\u003cextra\\u003e\\u003c\\u002fextra\\u003e\",\"legendgroup\":\"\",\"marker\":{\"color\":\"lightseagreen\",\"pattern\":{\"shape\":\"\"}},\"name\":\"\",\"offsetgroup\":\"\",\"orientation\":\"v\",\"showlegend\":false,\"textposition\":\"auto\",\"x\":[\"Bayview Hunters Point\",\"Bernal Heights\",\"Castro\\u002fUpper Market\",\"Chinatown\",\"Excelsior\",\"Financial District\\u002fSouth Beach\",\"Glen Park\",\"Golden Gate Park\",\"Haight Ashbury\",\"Hayes Valley\",\"Inner Richmond\",\"Inner Sunset\",\"Japantown\",\"Lakeshore\",\"Lincoln Park\",\"Lone Mountain\\u002fUSF\",\"Marina\",\"McLaren Park\",\"Mission\",\"Mission Bay\",\"Nob Hill\",\"Noe Valley\",\"North Beach\",\"Oceanview\\u002fMerced\\u002fIngleside\",\"Outer Mission\",\"Outer Richmond\",\"Pacific Heights\",\"Portola\",\"Potrero Hill\",\"Presidio\",\"Presidio Heights\",\"Russian Hill\",\"Seacliff\",\"South of Market\",\"Sunset\\u002fParkside\",\"Tenderloin\",\"Treasure Island\",\"Twin Peaks\",\"Visitacion Valley\",\"West of Twin Peaks\",\"Western Addition\"],\"xaxis\":\"x\",\"y\":[1.1530771906241335,0.128361079907313,0.07934411705262763,0.02676455520095507,0.10352499776742702,0.03761368496749844,0.06674629510384991,0.0,0.09127533970360831,0.19320592783384016,0.03614841205307413,0.08791519982703436,0.016992465653626873,0.12330535958525846,0.005179804379603213,0.0909733548287029,0.01155979300523127,0.0,0.33725306567524754,0.12187827541960622,0.13777125762012418,0.050198228982087714,0.07085869457931275,0.21863822446994016,0.07891229043189713,0.07909136628767761,0.1197116220700417,0.055570974670871735,0.058706212193138714,0.006501252590959724,0.005537251068109927,0.03811295879375256,0.0035866872846742085,0.2180578729924469,0.1333667435925155,0.35490907552676976,0.05895872795040397,0.04615174916219761,0.19582238589201864,0.10525394930414225,0.4305490014523475],\"yaxis\":\"y\",\"type\":\"bar\"}],                        {\"template\":{\"data\":{\"histogram2dcontour\":[{\"type\":\"histogram2dcontour\",\"colorbar\":{\"outlinewidth\":0,\"ticks\":\"\"},\"colorscale\":[[0.0,\"#0d0887\"],[0.1111111111111111,\"#46039f\"],[0.2222222222222222,\"#7201a8\"],[0.3333333333333333,\"#9c179e\"],[0.4444444444444444,\"#bd3786\"],[0.5555555555555556,\"#d8576b\"],[0.6666666666666666,\"#ed7953\"],[0.7777777777777778,\"#fb9f3a\"],[0.8888888888888888,\"#fdca26\"],[1.0,\"#f0f921\"]]}],\"choropleth\":[{\"type\":\"choropleth\",\"colorbar\":{\"outlinewidth\":0,\"ticks\":\"\"}}],\"histogram2d\":[{\"type\":\"histogram2d\",\"colorbar\":{\"outlinewidth\":0,\"ticks\":\"\"},\"colorscale\":[[0.0,\"#0d0887\"],[0.1111111111111111,\"#46039f\"],[0.2222222222222222,\"#7201a8\"],[0.3333333333333333,\"#9c179e\"],[0.4444444444444444,\"#bd3786\"],[0.5555555555555556,\"#d8576b\"],[0.6666666666666666,\"#ed7953\"],[0.7777777777777778,\"#fb9f3a\"],[0.8888888888888888,\"#fdca26\"],[1.0,\"#f0f921\"]]}],\"heatmap\":[{\"type\":\"heatmap\",\"colorbar\":{\"outlinewidth\":0,\"ticks\":\"\"},\"colorscale\":[[0.0,\"#0d0887\"],[0.1111111111111111,\"#46039f\"],[0.2222222222222222,\"#7201a8\"],[0.3333333333333333,\"#9c179e\"],[0.4444444444444444,\"#bd3786\"],[0.5555555555555556,\"#d8576b\"],[0.6666666666666666,\"#ed7953\"],[0.7777777777777778,\"#fb9f3a\"],[0.8888888888888888,\"#fdca26\"],[1.0,\"#f0f921\"]]}],\"heatmapgl\":[{\"type\":\"heatmapgl\",\"colorbar\":{\"outlinewidth\":0,\"ticks\":\"\"},\"colorscale\":[[0.0,\"#0d0887\"],[0.1111111111111111,\"#46039f\"],[0.2222222222222222,\"#7201a8\"],[0.3333333333333333,\"#9c179e\"],[0.4444444444444444,\"#bd3786\"],[0.5555555555555556,\"#d8576b\"],[0.6666666666666666,\"#ed7953\"],[0.7777777777777778,\"#fb9f3a\"],[0.8888888888888888,\"#fdca26\"],[1.0,\"#f0f921\"]]}],\"contourcarpet\":[{\"type\":\"contourcarpet\",\"colorbar\":{\"outlinewidth\":0,\"ticks\":\"\"}}],\"contour\":[{\"type\":\"contour\",\"colorbar\":{\"outlinewidth\":0,\"ticks\":\"\"},\"colorscale\":[[0.0,\"#0d0887\"],[0.1111111111111111,\"#46039f\"],[0.2222222222222222,\"#7201a8\"],[0.3333333333333333,\"#9c179e\"],[0.4444444444444444,\"#bd3786\"],[0.5555555555555556,\"#d8576b\"],[0.6666666666666666,\"#ed7953\"],[0.7777777777777778,\"#fb9f3a\"],[0.8888888888888888,\"#fdca26\"],[1.0,\"#f0f921\"]]}],\"surface\":[{\"type\":\"surface\",\"colorbar\":{\"outlinewidth\":0,\"ticks\":\"\"},\"colorscale\":[[0.0,\"#0d0887\"],[0.1111111111111111,\"#46039f\"],[0.2222222222222222,\"#7201a8\"],[0.3333333333333333,\"#9c179e\"],[0.4444444444444444,\"#bd3786\"],[0.5555555555555556,\"#d8576b\"],[0.6666666666666666,\"#ed7953\"],[0.7777777777777778,\"#fb9f3a\"],[0.8888888888888888,\"#fdca26\"],[1.0,\"#f0f921\"]]}],\"mesh3d\":[{\"type\":\"mesh3d\",\"colorbar\":{\"outlinewidth\":0,\"ticks\":\"\"}}],\"scatter\":[{\"fillpattern\":{\"fillmode\":\"overlay\",\"size\":10,\"solidity\":0.2},\"type\":\"scatter\"}],\"parcoords\":[{\"type\":\"parcoords\",\"line\":{\"colorbar\":{\"outlinewidth\":0,\"ticks\":\"\"}}}],\"scatterpolargl\":[{\"type\":\"scatterpolargl\",\"marker\":{\"colorbar\":{\"outlinewidth\":0,\"ticks\":\"\"}}}],\"bar\":[{\"error_x\":{\"color\":\"#2a3f5f\"},\"error_y\":{\"color\":\"#2a3f5f\"},\"marker\":{\"line\":{\"color\":\"#E5ECF6\",\"width\":0.5},\"pattern\":{\"fillmode\":\"overlay\",\"size\":10,\"solidity\":0.2}},\"type\":\"bar\"}],\"scattergeo\":[{\"type\":\"scattergeo\",\"marker\":{\"colorbar\":{\"outlinewidth\":0,\"ticks\":\"\"}}}],\"scatterpolar\":[{\"type\":\"scatterpolar\",\"marker\":{\"colorbar\":{\"outlinewidth\":0,\"ticks\":\"\"}}}],\"histogram\":[{\"marker\":{\"pattern\":{\"fillmode\":\"overlay\",\"size\":10,\"solidity\":0.2}},\"type\":\"histogram\"}],\"scattergl\":[{\"type\":\"scattergl\",\"marker\":{\"colorbar\":{\"outlinewidth\":0,\"ticks\":\"\"}}}],\"scatter3d\":[{\"type\":\"scatter3d\",\"line\":{\"colorbar\":{\"outlinewidth\":0,\"ticks\":\"\"}},\"marker\":{\"colorbar\":{\"outlinewidth\":0,\"ticks\":\"\"}}}],\"scattermapbox\":[{\"type\":\"scattermapbox\",\"marker\":{\"colorbar\":{\"outlinewidth\":0,\"ticks\":\"\"}}}],\"scatterternary\":[{\"type\":\"scatterternary\",\"marker\":{\"colorbar\":{\"outlinewidth\":0,\"ticks\":\"\"}}}],\"scattercarpet\":[{\"type\":\"scattercarpet\",\"marker\":{\"colorbar\":{\"outlinewidth\":0,\"ticks\":\"\"}}}],\"carpet\":[{\"aaxis\":{\"endlinecolor\":\"#2a3f5f\",\"gridcolor\":\"white\",\"linecolor\":\"white\",\"minorgridcolor\":\"white\",\"startlinecolor\":\"#2a3f5f\"},\"baxis\":{\"endlinecolor\":\"#2a3f5f\",\"gridcolor\":\"white\",\"linecolor\":\"white\",\"minorgridcolor\":\"white\",\"startlinecolor\":\"#2a3f5f\"},\"type\":\"carpet\"}],\"table\":[{\"cells\":{\"fill\":{\"color\":\"#EBF0F8\"},\"line\":{\"color\":\"white\"}},\"header\":{\"fill\":{\"color\":\"#C8D4E3\"},\"line\":{\"color\":\"white\"}},\"type\":\"table\"}],\"barpolar\":[{\"marker\":{\"line\":{\"color\":\"#E5ECF6\",\"width\":0.5},\"pattern\":{\"fillmode\":\"overlay\",\"size\":10,\"solidity\":0.2}},\"type\":\"barpolar\"}],\"pie\":[{\"automargin\":true,\"type\":\"pie\"}]},\"layout\":{\"autotypenumbers\":\"strict\",\"colorway\":[\"#636efa\",\"#EF553B\",\"#00cc96\",\"#ab63fa\",\"#FFA15A\",\"#19d3f3\",\"#FF6692\",\"#B6E880\",\"#FF97FF\",\"#FECB52\"],\"font\":{\"color\":\"#2a3f5f\"},\"hovermode\":\"closest\",\"hoverlabel\":{\"align\":\"left\"},\"paper_bgcolor\":\"white\",\"plot_bgcolor\":\"#E5ECF6\",\"polar\":{\"bgcolor\":\"#E5ECF6\",\"angularaxis\":{\"gridcolor\":\"white\",\"linecolor\":\"white\",\"ticks\":\"\"},\"radialaxis\":{\"gridcolor\":\"white\",\"linecolor\":\"white\",\"ticks\":\"\"}},\"ternary\":{\"bgcolor\":\"#E5ECF6\",\"aaxis\":{\"gridcolor\":\"white\",\"linecolor\":\"white\",\"ticks\":\"\"},\"baxis\":{\"gridcolor\":\"white\",\"linecolor\":\"white\",\"ticks\":\"\"},\"caxis\":{\"gridcolor\":\"white\",\"linecolor\":\"white\",\"ticks\":\"\"}},\"coloraxis\":{\"colorbar\":{\"outlinewidth\":0,\"ticks\":\"\"}},\"colorscale\":{\"sequential\":[[0.0,\"#0d0887\"],[0.1111111111111111,\"#46039f\"],[0.2222222222222222,\"#7201a8\"],[0.3333333333333333,\"#9c179e\"],[0.4444444444444444,\"#bd3786\"],[0.5555555555555556,\"#d8576b\"],[0.6666666666666666,\"#ed7953\"],[0.7777777777777778,\"#fb9f3a\"],[0.8888888888888888,\"#fdca26\"],[1.0,\"#f0f921\"]],\"sequentialminus\":[[0.0,\"#0d0887\"],[0.1111111111111111,\"#46039f\"],[0.2222222222222222,\"#7201a8\"],[0.3333333333333333,\"#9c179e\"],[0.4444444444444444,\"#bd3786\"],[0.5555555555555556,\"#d8576b\"],[0.6666666666666666,\"#ed7953\"],[0.7777777777777778,\"#fb9f3a\"],[0.8888888888888888,\"#fdca26\"],[1.0,\"#f0f921\"]],\"diverging\":[[0,\"#8e0152\"],[0.1,\"#c51b7d\"],[0.2,\"#de77ae\"],[0.3,\"#f1b6da\"],[0.4,\"#fde0ef\"],[0.5,\"#f7f7f7\"],[0.6,\"#e6f5d0\"],[0.7,\"#b8e186\"],[0.8,\"#7fbc41\"],[0.9,\"#4d9221\"],[1,\"#276419\"]]},\"xaxis\":{\"gridcolor\":\"white\",\"linecolor\":\"white\",\"ticks\":\"\",\"title\":{\"standoff\":15},\"zerolinecolor\":\"white\",\"automargin\":true,\"zerolinewidth\":2},\"yaxis\":{\"gridcolor\":\"white\",\"linecolor\":\"white\",\"ticks\":\"\",\"title\":{\"standoff\":15},\"zerolinecolor\":\"white\",\"automargin\":true,\"zerolinewidth\":2},\"scene\":{\"xaxis\":{\"backgroundcolor\":\"#E5ECF6\",\"gridcolor\":\"white\",\"linecolor\":\"white\",\"showbackground\":true,\"ticks\":\"\",\"zerolinecolor\":\"white\",\"gridwidth\":2},\"yaxis\":{\"backgroundcolor\":\"#E5ECF6\",\"gridcolor\":\"white\",\"linecolor\":\"white\",\"showbackground\":true,\"ticks\":\"\",\"zerolinecolor\":\"white\",\"gridwidth\":2},\"zaxis\":{\"backgroundcolor\":\"#E5ECF6\",\"gridcolor\":\"white\",\"linecolor\":\"white\",\"showbackground\":true,\"ticks\":\"\",\"zerolinecolor\":\"white\",\"gridwidth\":2}},\"shapedefaults\":{\"line\":{\"color\":\"#2a3f5f\"}},\"annotationdefaults\":{\"arrowcolor\":\"#2a3f5f\",\"arrowhead\":0,\"arrowwidth\":1},\"geo\":{\"bgcolor\":\"white\",\"landcolor\":\"#E5ECF6\",\"subunitcolor\":\"white\",\"showland\":true,\"showlakes\":true,\"lakecolor\":\"white\"},\"title\":{\"x\":0.05},\"mapbox\":{\"style\":\"light\"}}},\"xaxis\":{\"anchor\":\"y\",\"domain\":[0.0,1.0],\"title\":{\"text\":\"neighborhoods\"}},\"yaxis\":{\"anchor\":\"x\",\"domain\":[0.0,1.0],\"title\":{\"text\":\"Black pop (%)\"}},\"legend\":{\"tracegroupgap\":0},\"title\":{\"text\":\"Percent of Black people per neighborhood in San Francisco\"},\"barmode\":\"group\",\"height\":700},                        {\"responsive\": true}                    ).then(function(){\n",
       "                            \n",
       "var gd = document.getElementById('bc16650d-2499-4e70-91c6-7bd277f9c7ba');\n",
       "var x = new MutationObserver(function (mutations, observer) {{\n",
       "        var display = window.getComputedStyle(gd).display;\n",
       "        if (!display || display === 'none') {{\n",
       "            console.log([gd, 'removed!']);\n",
       "            Plotly.purge(gd);\n",
       "            observer.disconnect();\n",
       "        }}\n",
       "}});\n",
       "\n",
       "// Listen for the removal of the full notebook cells\n",
       "var notebookContainer = gd.closest('#notebook-container');\n",
       "if (notebookContainer) {{\n",
       "    x.observe(notebookContainer, {childList: true});\n",
       "}}\n",
       "\n",
       "// Listen for the clearing of the current output cell\n",
       "var outputEl = gd.closest('.output');\n",
       "if (outputEl) {{\n",
       "    x.observe(outputEl, {childList: true});\n",
       "}}\n",
       "\n",
       "                        })                };                });            </script>        </div>"
      ]
     },
     "metadata": {},
     "output_type": "display_data"
    }
   ],
   "source": [
    "# test plot\n",
    "blackpop_neighborhood = px.bar(race_neighborhood,\n",
    "              x='neighborhoods',\n",
    "              y='Black pop (%)',\n",
    "              title='Percent of Black people per neighborhood in San Francisco',\n",
    "              barmode='group',\n",
    "              color_discrete_sequence=['lightseagreen'],\n",
    "              height=700\n",
    "              )\n",
    "blackpop_neighborhood"
   ]
  },
  {
   "cell_type": "code",
   "execution_count": 180,
   "id": "0ccb80df-8352-4b88-bbbe-373469b7e247",
   "metadata": {},
   "outputs": [
    {
     "name": "stdout",
     "output_type": "stream",
     "text": [
      "Saved map_black_pop_(%).html\n",
      "Saved map_asian_pop_(%).html\n",
      "Saved map_hispanic_latino_pop_(%).html\n",
      "Saved map_white_pop_(%).html\n"
     ]
    }
   ],
   "source": [
    "race_percentage_columns = [col for col in race.columns if 'pop (%)' in col]\n",
    "\n",
    "maps = {}\n",
    "\n",
    "for col in race_percentage_columns:\n",
    "    m = folium.Map(location=[37.7619, -122.4194], \n",
    "                   zoom_start=12,\n",
    "                   tiles='CartoDB positron', \n",
    "                   attribution='CartoDB')\n",
    "\n",
    "    folium.Choropleth(\n",
    "        geo_data=race,\n",
    "        data=race,         \n",
    "        key_on='feature.properties.FIPS',\n",
    "        columns=['FIPS', col],\n",
    "        fill_color='YlGnBu',\n",
    "        line_weight=0.1, \n",
    "        fill_opacity=0.8,\n",
    "        line_opacity=0.5, \n",
    "        legend_name=f'{col} in San Francisco'\n",
    "    ).add_to(m)\n",
    "\n",
    "    style_function = lambda x: {'fillColor': '#ffffff', \n",
    "                                'color':'#000000', \n",
    "                                'fillOpacity': 0.1, \n",
    "                                'weight': 0.1}\n",
    "    \n",
    "    highlight_function = lambda x: {'fillColor': '#000000', \n",
    "                                    'color':'#000000', \n",
    "                                    'fillOpacity': 0.50, \n",
    "                                    'weight': 0.1}\n",
    "\n",
    "    TRACTS = folium.features.GeoJson(\n",
    "        race,\n",
    "        style_function=style_function,\n",
    "        control=False,\n",
    "        highlight_function=highlight_function,\n",
    "        tooltip=folium.features.GeoJsonTooltip(\n",
    "            fields=['FIPS', 'neighborhoods', col],\n",
    "            aliases=['FIPS Code: ', 'Neighborhood: ', f'{col}: '],\n",
    "            style=(\"background-color: white; color: #333333; font-family: arial; \"\n",
    "                   \"font-size: 12px; padding: 10px;\")\n",
    "        )\n",
    "    )\n",
    "\n",
    "    title_html = f'''\n",
    "    <div style=\"position: absolute; top: 10px; left: 50%; transform: translate(-50%, 0);\n",
    "                background-color: white; padding: 10px; font-size: 20px; font-weight: bold;\n",
    "                z-index: 1000; border-radius: 5px; box-shadow: 2px 2px 5px rgba(0,0,0,0.3);\">\n",
    "         {col} in San Francisco\n",
    "    </div>\n",
    "    '''\n",
    "    m.get_root().html.add_child(folium.Element(title_html))\n",
    "\n",
    "    m.add_child(TRACTS)\n",
    "    m.keep_in_front(TRACTS)\n",
    "    folium.LayerControl().add_to(m)\n",
    "\n",
    "    maps[col] = m  # Store the map in the dictionary\n",
    "\n",
    "    # Save the map\n",
    "    filename = f\"map_{col.lower().replace(' ', '_')}.html\"\n",
    "    m.save(filename)\n",
    "    print(f\"Saved {filename}\")"
   ]
  },
  {
   "cell_type": "code",
   "execution_count": null,
   "id": "596c4111-42f6-4364-b65e-574e7e459cae",
   "metadata": {},
   "outputs": [],
   "source": []
  }
 ],
 "metadata": {
  "kernelspec": {
   "display_name": "Python 3 (ipykernel)",
   "language": "python",
   "name": "python3"
  },
  "language_info": {
   "codemirror_mode": {
    "name": "ipython",
    "version": 3
   },
   "file_extension": ".py",
   "mimetype": "text/x-python",
   "name": "python",
   "nbconvert_exporter": "python",
   "pygments_lexer": "ipython3",
   "version": "3.11.9"
  }
 },
 "nbformat": 4,
 "nbformat_minor": 5
}
